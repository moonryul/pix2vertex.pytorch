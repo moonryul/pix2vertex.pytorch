{
  "nbformat": 4,
  "nbformat_minor": 0,
  "metadata": {
    "kernelspec": {
      "display_name": "Python 3",
      "language": "python",
      "name": "python3"
    },
    "language_info": {
      "codemirror_mode": {
        "name": "ipython",
        "version": 3
      },
      "file_extension": ".py",
      "mimetype": "text/x-python",
      "name": "python",
      "nbconvert_exporter": "python",
      "pygments_lexer": "ipython3",
      "version": "3.7.6"
    },
    "colab": {
      "name": "reconstruct_pipeline.ipynb",
      "provenance": [],
      "toc_visible": true
    },
    "accelerator": "GPU"
  },
  "cells": [
    {
      "cell_type": "code",
      "metadata": {
        "id": "dKIcnfoBYoC5",
        "outputId": "011f1477-684f-4e6e-ce5b-7df4d555a4de",
        "colab": {
          "base_uri": "https://localhost:8080/"
        }
      },
      "source": [
        "%load_ext autoreload\n",
        "%autoreload 2\n",
        "\n",
        "import matplotlib\n",
        "import matplotlib.pyplot as plt\n",
        "import numpy as np\n",
        "from skimage import io\n",
        "\n",
        "\n",
        "matplotlib.rcParams['figure.figsize'] = (13,7)"
      ],
      "execution_count": 2,
      "outputs": [
        {
          "output_type": "stream",
          "text": [
            "The autoreload extension is already loaded. To reload it, use:\n",
            "  %reload_ext autoreload\n"
          ],
          "name": "stdout"
        }
      ]
    },
    {
      "cell_type": "code",
      "metadata": {
        "id": "kyOG3phoY_Kj",
        "outputId": "b946b164-564d-4bb0-9829-73a685410e2e",
        "colab": {
          "base_uri": "https://localhost:8080/"
        }
      },
      "source": [
        "from google.colab import drive\n",
        "drive.mount('/content/gdrive')"
      ],
      "execution_count": 3,
      "outputs": [
        {
          "output_type": "stream",
          "text": [
            "Mounted at /content/gdrive\n"
          ],
          "name": "stdout"
        }
      ]
    },
    {
      "cell_type": "code",
      "metadata": {
        "id": "vw8ioO3OZD8k"
      },
      "source": [
        "!ln -s /root /content"
      ],
      "execution_count": 4,
      "outputs": []
    },
    {
      "cell_type": "code",
      "metadata": {
        "id": "xdl2DVe8ZJiJ"
      },
      "source": [
        "import sys\n",
        "sys.path.append('/content/gdrive/MyDrive/ColabNotebooks/fastaiPart2/course-v3/nbs/dl2')"
      ],
      "execution_count": 5,
      "outputs": []
    },
    {
      "cell_type": "code",
      "metadata": {
        "id": "eFk3EERbZSQQ",
        "outputId": "d814924e-8623-4159-b1ea-f8a61168a987",
        "colab": {
          "base_uri": "https://localhost:8080/"
        }
      },
      "source": [
        "!git clone https://github.com/eladrich/pix2vertex.pytorch.git"
      ],
      "execution_count": 8,
      "outputs": [
        {
          "output_type": "stream",
          "text": [
            "fatal: destination path 'pix2vertex.pytorch' already exists and is not an empty directory.\n"
          ],
          "name": "stdout"
        }
      ]
    },
    {
      "cell_type": "code",
      "metadata": {
        "id": "B7hg2Kv8Z3zi"
      },
      "source": [
        "%cd pix2vertex.pytorch\n",
        "!python setup.py install"
      ],
      "execution_count": null,
      "outputs": []
    },
    {
      "cell_type": "code",
      "metadata": {
        "id": "g_dO1ecYZCmn"
      },
      "source": [
        "import pix2vertex as p2v"
      ],
      "execution_count": 10,
      "outputs": []
    },
    {
      "cell_type": "code",
      "metadata": {
        "id": "4mQJqptZZOOE"
      },
      "source": [
        ""
      ],
      "execution_count": null,
      "outputs": []
    },
    {
      "cell_type": "markdown",
      "metadata": {
        "id": "2m8DzntcYoDI"
      },
      "source": [
        "## Initializations"
      ]
    },
    {
      "cell_type": "code",
      "metadata": {
        "id": "cUw1wxkPbD_D"
      },
      "source": [
        "#dlib and facial landmarks: cf: https://www.pyimagesearch.com/2017/04/03/facial-landmarks-dlib-opencv-python/"
      ],
      "execution_count": null,
      "outputs": []
    },
    {
      "cell_type": "code",
      "metadata": {
        "id": "v9K38v4lYoDK",
        "outputId": "780ca5c0-9810-44f3-be36-1fb130b94fc0",
        "colab": {
          "base_uri": "https://localhost:8080/"
        }
      },
      "source": [
        "detector = p2v.Detector()\n",
        "reconstructor = p2v.Reconstructor(detector=detector)"
      ],
      "execution_count": 11,
      "outputs": [
        {
          "output_type": "stream",
          "text": [
            "shape_predictor_68_face_landmarks.dat.bz2:   0%|          | 168k/61.1M [00:00<00:37, 1.68MB/s]"
          ],
          "name": "stderr"
        },
        {
          "output_type": "stream",
          "text": [
            "Loading default detector weights from /content/pix2vertex.pytorch/pix2vertex/../weights/shape_predictor_68_face_landmarks.dat\n",
            "\tDownloading weights from http://dlib.net/files/shape_predictor_68_face_landmarks.dat.bz2...\n"
          ],
          "name": "stdout"
        },
        {
          "output_type": "stream",
          "text": [
            "shape_predictor_68_face_landmarks.dat.bz2: 100%|██████████| 61.1M/61.1M [00:01<00:00, 43.4MB/s]\n"
          ],
          "name": "stderr"
        },
        {
          "output_type": "stream",
          "text": [
            "\tExtracting weights...\n",
            "\tDone!\n",
            "loading default reconstructor weights from /content/pix2vertex.pytorch/pix2vertex/../weights/faces_hybrid_and_rotated_2.pth\n",
            "\tDownloading weights...\n"
          ],
          "name": "stdout"
        },
        {
          "output_type": "stream",
          "text": [
            "218MB [00:03, 59.9MB/s]\n"
          ],
          "name": "stderr"
        },
        {
          "output_type": "stream",
          "text": [
            "\tDone!\n"
          ],
          "name": "stdout"
        }
      ]
    },
    {
      "cell_type": "code",
      "metadata": {
        "id": "kDM8a0J1YoDK"
      },
      "source": [
        "im_path = 'examples/sample.jpg' # im_path can be a URL as well!\n",
        "img = io.imread(im_path) \n",
        "fig = plt.figure()\n",
        "plt.imshow(img)\n",
        "plt.show()"
      ],
      "execution_count": null,
      "outputs": []
    },
    {
      "cell_type": "markdown",
      "metadata": {
        "id": "1Fk446iGYoDL"
      },
      "source": [
        "## Inference"
      ]
    },
    {
      "cell_type": "code",
      "metadata": {
        "id": "m_Ow011nYoDM"
      },
      "source": [
        "img_crop = detector.detect_and_crop(img)\n",
        "fig = plt.figure()\n",
        "plt.imshow(img_crop)\n",
        "plt.show()"
      ],
      "execution_count": null,
      "outputs": []
    },
    {
      "cell_type": "code",
      "metadata": {
        "id": "Hq5yvvPOYoDM"
      },
      "source": [
        "net_res = reconstructor.run_net(img_crop)\n",
        "p2v.vis_net_result(img_crop,net_res)\n",
        "final_res = reconstructor.post_process(net_res)"
      ],
      "execution_count": null,
      "outputs": []
    },
    {
      "cell_type": "markdown",
      "metadata": {
        "id": "zEv5j337YoDN"
      },
      "source": [
        "## Interactive Visualizations"
      ]
    },
    {
      "cell_type": "code",
      "metadata": {
        "id": "rMWiL1_ZYoDN"
      },
      "source": [
        "plot = p2v.vis_depth_interactive(final_res['Z_surface'])"
      ],
      "execution_count": null,
      "outputs": []
    },
    {
      "cell_type": "code",
      "metadata": {
        "id": "rS8j1rhuYoDO"
      },
      "source": [
        "plot = p2v.vis_pcloud_interactive(final_res,img_crop)"
      ],
      "execution_count": null,
      "outputs": []
    },
    {
      "cell_type": "code",
      "metadata": {
        "id": "gfO_un2UYoDO"
      },
      "source": [
        "# Fallback matplotlib visualization\n",
        "p2v.vis_depth_matplotlib(img_crop,final_res['Z_surface'])"
      ],
      "execution_count": null,
      "outputs": []
    },
    {
      "cell_type": "markdown",
      "metadata": {
        "id": "w3D0GaWBYoDP"
      },
      "source": [
        "## Saving Result"
      ]
    },
    {
      "cell_type": "code",
      "metadata": {
        "id": "Jx6CFgdOYoDP"
      },
      "source": [
        "p2v.save2stl(final_res['Z_surface'],'res.stl')"
      ],
      "execution_count": null,
      "outputs": []
    },
    {
      "cell_type": "markdown",
      "metadata": {
        "id": "99ZRIS-7YoDQ"
      },
      "source": [
        "Create link to make accessible from notebook"
      ]
    },
    {
      "cell_type": "code",
      "metadata": {
        "id": "2Ue63TmRYoDQ"
      },
      "source": [
        "from IPython.display import FileLink\n",
        "FileLink('res.stl')"
      ],
      "execution_count": null,
      "outputs": []
    },
    {
      "cell_type": "code",
      "metadata": {
        "id": "cnoZ8PBBYoDT"
      },
      "source": [
        ""
      ],
      "execution_count": null,
      "outputs": []
    }
  ]
}